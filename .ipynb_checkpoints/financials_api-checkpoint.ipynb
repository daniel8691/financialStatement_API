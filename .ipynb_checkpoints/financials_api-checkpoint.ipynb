{
 "cells": [
  {
   "cell_type": "code",
   "execution_count": 1,
   "metadata": {},
   "outputs": [],
   "source": [
    "from config import model_api"
   ]
  },
  {
   "cell_type": "code",
   "execution_count": 2,
   "metadata": {},
   "outputs": [],
   "source": [
    "import pandas as pd\n",
    "import numpy as np\n",
    "import matplotlib.pyplot as plt"
   ]
  },
  {
   "cell_type": "code",
   "execution_count": 3,
   "metadata": {},
   "outputs": [],
   "source": [
    "import requests"
   ]
  },
  {
   "cell_type": "code",
   "execution_count": 5,
   "metadata": {},
   "outputs": [],
   "source": [
    "ticker = \"AYRO\"\n",
    "incomeAnnual_url = f\"https://financialmodelingprep.com/api/v3/income-statement/{ticker}?apikey={model_api}\"\n",
    "incomeQuarter_url = f\"https://financialmodelingprep.com/api/v3/income-statement/{ticker}?apikey={model_api}&period=quarter&limit=10\"\n",
    "keyStats_url = f\"https://financialmodelingprep.com/api/v3/profile/{ticker}?apikey={model_api}\""
   ]
  },
  {
   "cell_type": "code",
   "execution_count": 7,
   "metadata": {},
   "outputs": [],
   "source": [
    "ayro_json = requests.get(incomeQuarter_url).json()"
   ]
  },
  {
   "cell_type": "code",
   "execution_count": 8,
   "metadata": {},
   "outputs": [
    {
     "data": {
      "text/plain": [
       "[{'date': '2020-09-30',\n",
       "  'symbol': 'AYRO',\n",
       "  'reportedCurrency': 'USD',\n",
       "  'fillingDate': '2020-11-06',\n",
       "  'acceptedDate': '2020-11-06 08:00:37',\n",
       "  'period': 'Q3',\n",
       "  'revenue': 388654.0,\n",
       "  'costOfRevenue': 326671.0,\n",
       "  'grossProfit': 61983.0,\n",
       "  'grossProfitRatio': 0.159481183777859,\n",
       "  'researchAndDevelopmentExpenses': 664145.0,\n",
       "  'generalAndAdministrativeExpenses': 1786898.0,\n",
       "  'sellingAndMarketingExpenses': 304880.0,\n",
       "  'otherExpenses': 17503.0,\n",
       "  'operatingExpenses': 2451043.0,\n",
       "  'costAndExpenses': 2777714.0,\n",
       "  'interestExpense': 95469.0,\n",
       "  'depreciationAndAmortization': 146177.0,\n",
       "  'ebitda': -2225380.0,\n",
       "  'ebitdaratio': -5.72586413622399,\n",
       "  'operatingIncome': -2389060.0,\n",
       "  'operatingIncomeRatio': -6.8974614953146,\n",
       "  'totalOtherIncomeExpensesNet': -196197.0,\n",
       "  'incomeBeforeTax': -2680726.0,\n",
       "  'incomeBeforeTaxRatio': -6.8974614953146,\n",
       "  'incomeTaxExpense': 0.0,\n",
       "  'netIncome': -2680726.0,\n",
       "  'netIncomeRatio': -6.8974614953146,\n",
       "  'eps': -0.13,\n",
       "  'epsdiluted': -0.13,\n",
       "  'weightedAverageShsOut': 23599967,\n",
       "  'weightedAverageShsOutDil': 23599967,\n",
       "  'link': 'https://www.sec.gov/Archives/edgar/data/1086745/000149315220020639/0001493152-20-020639-index.htm',\n",
       "  'finalLink': 'https://www.sec.gov/Archives/edgar/data/1086745/000149315220020639/form10-q.htm'},\n",
       " {'date': '2020-06-30',\n",
       "  'symbol': 'AYRO',\n",
       "  'reportedCurrency': 'USD',\n",
       "  'fillingDate': '2020-06-30',\n",
       "  'acceptedDate': '2020-06-30',\n",
       "  'period': 'Q2',\n",
       "  'revenue': 285927.0,\n",
       "  'costOfRevenue': 205637.0,\n",
       "  'grossProfit': 80290.0,\n",
       "  'grossProfitRatio': 0.2808059399776866,\n",
       "  'researchAndDevelopmentExpenses': 180605.0,\n",
       "  'generalAndAdministrativeExpenses': 953744.0,\n",
       "  'sellingAndMarketingExpenses': 239065.0,\n",
       "  'otherExpenses': 3.0,\n",
       "  'operatingExpenses': 1134349.0,\n",
       "  'costAndExpenses': 1339986.0,\n",
       "  'interestExpense': 123576.0,\n",
       "  'depreciationAndAmortization': 228460.0,\n",
       "  'ebitda': -1054056.0,\n",
       "  'ebitdaratio': -3.686451436905224,\n",
       "  'operatingIncome': -1054059.0,\n",
       "  'operatingIncomeRatio': -5.354013436996157,\n",
       "  'totalOtherIncomeExpensesNet': -353222.0,\n",
       "  'incomeBeforeTax': -1530857.0,\n",
       "  'incomeBeforeTaxRatio': -5.354013436996157,\n",
       "  'incomeTaxExpense': 0.0,\n",
       "  'netIncome': -1530857.0,\n",
       "  'netIncomeRatio': -5.354013436996157,\n",
       "  'eps': -0.18,\n",
       "  'epsdiluted': -0.18,\n",
       "  'weightedAverageShsOut': 8291351.0,\n",
       "  'weightedAverageShsOutDil': 8291351.0,\n",
       "  'link': None,\n",
       "  'finalLink': None},\n",
       " {'date': '2020-03-31',\n",
       "  'symbol': 'AYRO',\n",
       "  'reportedCurrency': 'USD',\n",
       "  'fillingDate': '2020-03-31',\n",
       "  'acceptedDate': '2020-03-31',\n",
       "  'period': 'Q1',\n",
       "  'revenue': 146820.0,\n",
       "  'costOfRevenue': 113160.0,\n",
       "  'grossProfit': 33660.0,\n",
       "  'grossProfitRatio': 0.22926,\n",
       "  'researchAndDevelopmentExpenses': 154700.0,\n",
       "  'generalAndAdministrativeExpenses': 1568510.0,\n",
       "  'sellingAndMarketingExpenses': 0.0,\n",
       "  'otherExpenses': 0.0,\n",
       "  'operatingExpenses': 1723200.0,\n",
       "  'costAndExpenses': 1836360.0,\n",
       "  'interestExpense': -105630.0,\n",
       "  'depreciationAndAmortization': 0.0,\n",
       "  'ebitda': -1900780.0,\n",
       "  'ebitdaratio': -12.946329,\n",
       "  'operatingIncome': -1689540.0,\n",
       "  'operatingIncomeRatio': -11.50756,\n",
       "  'totalOtherIncomeExpensesNet': 20.0,\n",
       "  'incomeBeforeTax': -1795150.0,\n",
       "  'incomeBeforeTaxRatio': -12.226876,\n",
       "  'incomeTaxExpense': 0.0,\n",
       "  'netIncome': -1795150.0,\n",
       "  'netIncomeRatio': -12.226876,\n",
       "  'eps': -0.24893,\n",
       "  'epsdiluted': -0.24893,\n",
       "  'weightedAverageShsOut': 7211530.0,\n",
       "  'weightedAverageShsOutDil': 7211530.0,\n",
       "  'link': None,\n",
       "  'finalLink': None},\n",
       " {'date': '2019-12-31',\n",
       "  'symbol': 'AYRO',\n",
       "  'reportedCurrency': 'USD',\n",
       "  'fillingDate': '2020-03-30',\n",
       "  'acceptedDate': '2020-03-30',\n",
       "  'period': 'Q4',\n",
       "  'revenue': 457974.0,\n",
       "  'costOfRevenue': 417232.0,\n",
       "  'grossProfit': 40742.0,\n",
       "  'grossProfitRatio': 0.0889623767262151,\n",
       "  'researchAndDevelopmentExpenses': 205000.0,\n",
       "  'generalAndAdministrativeExpenses': 2477160.0,\n",
       "  'sellingAndMarketingExpenses': 0.0,\n",
       "  'otherExpenses': 395081.0,\n",
       "  'operatingExpenses': 2477160.0,\n",
       "  'costAndExpenses': 2477160.0,\n",
       "  'interestExpense': 0.0,\n",
       "  'depreciationAndAmortization': -837789.0,\n",
       "  'ebitda': -4902380.0,\n",
       "  'ebitdaratio': -0.712487704009721,\n",
       "  'operatingIncome': -2477160.0,\n",
       "  'operatingIncomeRatio': -0.529554156399538,\n",
       "  'totalOtherIncomeExpensesNet': 12827.0,\n",
       "  'incomeBeforeTax': -2477160.0,\n",
       "  'incomeBeforeTaxRatio': 0.0,\n",
       "  'incomeTaxExpense': 0.0,\n",
       "  'netIncome': -4902380.0,\n",
       "  'netIncomeRatio': 0.0,\n",
       "  'eps': -6.92133,\n",
       "  'epsdiluted': -6.92133,\n",
       "  'weightedAverageShsOut': 708300.0,\n",
       "  'weightedAverageShsOutDil': 708300.0,\n",
       "  'link': 'https://www.sec.gov/Archives/edgar/data/1086745/000165495420003510/0001654954-20-003510-index.htm',\n",
       "  'finalLink': 'https://www.sec.gov/Archives/edgar/data/1086745/000165495420003510/dcar_10k.htm'},\n",
       " {'date': '2019-09-30',\n",
       "  'symbol': 'AYRO',\n",
       "  'reportedCurrency': 'USD',\n",
       "  'fillingDate': '2019-09-30',\n",
       "  'acceptedDate': '2019-09-30',\n",
       "  'period': 'Q3',\n",
       "  'revenue': 265481.0,\n",
       "  'costOfRevenue': 202029.0,\n",
       "  'grossProfit': 63452.0,\n",
       "  'grossProfitRatio': 0.23900768793246974,\n",
       "  'researchAndDevelopmentExpenses': 297680.0,\n",
       "  'generalAndAdministrativeExpenses': 1843651.0,\n",
       "  'sellingAndMarketingExpenses': 432275.0,\n",
       "  'otherExpenses': 1142.0,\n",
       "  'operatingExpenses': 2141331.0,\n",
       "  'costAndExpenses': 2343360.0,\n",
       "  'interestExpense': 65103.0,\n",
       "  'depreciationAndAmortization': 129407.0,\n",
       "  'ebitda': -1947330.0,\n",
       "  'ebitdaratio': -7.33510119368241,\n",
       "  'operatingIncome': -2077879.0,\n",
       "  'operatingIncomeRatio': -8.067771328268313,\n",
       "  'totalOtherIncomeExpensesNet': 1142.0,\n",
       "  'incomeBeforeTax': -2141840.0,\n",
       "  'incomeBeforeTaxRatio': -8.067771328268313,\n",
       "  'incomeTaxExpense': 0.0,\n",
       "  'netIncome': -2141840.0,\n",
       "  'netIncomeRatio': -8.067771328268313,\n",
       "  'eps': -0.77,\n",
       "  'epsdiluted': -0.77,\n",
       "  'weightedAverageShsOut': 2793592.0,\n",
       "  'weightedAverageShsOutDil': 2793592.0,\n",
       "  'link': None,\n",
       "  'finalLink': None}]"
      ]
     },
     "execution_count": 8,
     "metadata": {},
     "output_type": "execute_result"
    }
   ],
   "source": [
    "ayro_json"
   ]
  },
  {
   "cell_type": "code",
   "execution_count": 9,
   "metadata": {},
   "outputs": [
    {
     "data": {
      "text/plain": [
       "'2020-09-30'"
      ]
     },
     "execution_count": 9,
     "metadata": {},
     "output_type": "execute_result"
    }
   ],
   "source": [
    "ayro_json[0]['date']"
   ]
  },
  {
   "cell_type": "code",
   "execution_count": 16,
   "metadata": {},
   "outputs": [],
   "source": [
    "# define the rows for the DataFrame\n",
    "rows = ['Operating Margin', \"Operating Income/Loss\", \"Net Income\", \"Gross Profit\"]\n",
    "# determine revenue\n",
    "revenue = ayro_json[0]['revenue'] / 1000\n",
    "# determine gross profit\n",
    "gross_profit = ayro_json[0]['grossProfit'] / 1000\n",
    "# determine operating expenses\n",
    "operating_expenses = ayro_json[0]['operatingExpenses'] / 1000\n",
    "# determine net income\n",
    "net_income = ayro_json[0]['netIncome'] / 1000\n",
    "# calculate operating income\n",
    "operating_income = gross_profit - operating_expenses\n",
    "# calculate operating margin\n",
    "operating_margin = operating_income / revenue\n",
    "\n"
   ]
  },
  {
   "cell_type": "code",
   "execution_count": 17,
   "metadata": {},
   "outputs": [
    {
     "data": {
      "text/html": [
       "<div>\n",
       "<style scoped>\n",
       "    .dataframe tbody tr th:only-of-type {\n",
       "        vertical-align: middle;\n",
       "    }\n",
       "\n",
       "    .dataframe tbody tr th {\n",
       "        vertical-align: top;\n",
       "    }\n",
       "\n",
       "    .dataframe thead th {\n",
       "        text-align: right;\n",
       "    }\n",
       "</style>\n",
       "<table border=\"1\" class=\"dataframe\">\n",
       "  <thead>\n",
       "    <tr style=\"text-align: right;\">\n",
       "      <th></th>\n",
       "      <th>2020-09-30</th>\n",
       "    </tr>\n",
       "  </thead>\n",
       "  <tbody>\n",
       "    <tr>\n",
       "      <th>Operating Margin</th>\n",
       "      <td>-6.14701</td>\n",
       "    </tr>\n",
       "    <tr>\n",
       "      <th>Operating Income/Loss</th>\n",
       "      <td>-2389.06000</td>\n",
       "    </tr>\n",
       "    <tr>\n",
       "      <th>Net Income</th>\n",
       "      <td>-2680.72600</td>\n",
       "    </tr>\n",
       "    <tr>\n",
       "      <th>Gross Profit</th>\n",
       "      <td>61.98300</td>\n",
       "    </tr>\n",
       "  </tbody>\n",
       "</table>\n",
       "</div>"
      ],
      "text/plain": [
       "                       2020-09-30\n",
       "Operating Margin         -6.14701\n",
       "Operating Income/Loss -2389.06000\n",
       "Net Income            -2680.72600\n",
       "Gross Profit             61.98300"
      ]
     },
     "execution_count": 17,
     "metadata": {},
     "output_type": "execute_result"
    }
   ],
   "source": [
    "pd.DataFrame({ayro_json[0]['date']: [operating_margin, operating_income, net_income, gross_profit]}, \n",
    "             index=rows)"
   ]
  },
  {
   "cell_type": "code",
   "execution_count": null,
   "metadata": {},
   "outputs": [],
   "source": [
    "## CASH FLOW STATEMENT\n"
   ]
  },
  {
   "cell_type": "code",
   "execution_count": null,
   "metadata": {},
   "outputs": [],
   "source": []
  },
  {
   "cell_type": "code",
   "execution_count": null,
   "metadata": {},
   "outputs": [],
   "source": []
  },
  {
   "cell_type": "code",
   "execution_count": null,
   "metadata": {},
   "outputs": [],
   "source": []
  },
  {
   "cell_type": "code",
   "execution_count": null,
   "metadata": {},
   "outputs": [],
   "source": []
  },
  {
   "cell_type": "code",
   "execution_count": null,
   "metadata": {},
   "outputs": [],
   "source": []
  },
  {
   "cell_type": "code",
   "execution_count": 16,
   "metadata": {},
   "outputs": [],
   "source": [
    "test = requests.get(keyStats_url)"
   ]
  },
  {
   "cell_type": "code",
   "execution_count": 22,
   "metadata": {},
   "outputs": [],
   "source": [
    "test2 = requests.get(incomeStatement_url)"
   ]
  },
  {
   "cell_type": "code",
   "execution_count": 25,
   "metadata": {},
   "outputs": [
    {
     "data": {
      "text/plain": [
       "{'date': '2020-09-26',\n",
       " 'symbol': 'AAPL',\n",
       " 'reportedCurrency': 'USD',\n",
       " 'fillingDate': '2020-10-30',\n",
       " 'acceptedDate': '2020-10-29 18:06:25',\n",
       " 'period': 'FY',\n",
       " 'revenue': 274515000000,\n",
       " 'costOfRevenue': 169559000000,\n",
       " 'grossProfit': 104956000000,\n",
       " 'grossProfitRatio': 0.382332477278109,\n",
       " 'researchAndDevelopmentExpenses': 18752000000,\n",
       " 'generalAndAdministrativeExpenses': 19916000000,\n",
       " 'sellingAndMarketingExpenses': 0.0,\n",
       " 'otherExpenses': -87000000,\n",
       " 'operatingExpenses': 38668000000,\n",
       " 'costAndExpenses': 208227000000,\n",
       " 'interestExpense': 2873000000,\n",
       " 'depreciationAndAmortization': 11056000000,\n",
       " 'ebitda': 81020000000,\n",
       " 'ebitdaratio': 0.295138699160337,\n",
       " 'operatingIncome': 66288000000,\n",
       " 'operatingIncomeRatio': 0.244398302460703,\n",
       " 'totalOtherIncomeExpensesNet': -87000000,\n",
       " 'incomeBeforeTax': 67091000000,\n",
       " 'incomeBeforeTaxRatio': 0.244398302460703,\n",
       " 'incomeTaxExpense': 9680000000,\n",
       " 'netIncome': 57411000000,\n",
       " 'netIncomeRatio': 0.209136112780722,\n",
       " 'eps': 3.36,\n",
       " 'epsdiluted': 3.36,\n",
       " 'weightedAverageShsOut': 17057622000,\n",
       " 'weightedAverageShsOutDil': 17256521000,\n",
       " 'link': 'https://www.sec.gov/Archives/edgar/data/320193/000032019320000096/0000320193-20-000096-index.htm',\n",
       " 'finalLink': 'https://www.sec.gov/Archives/edgar/data/320193/000032019320000096/aapl-20200926.htm'}"
      ]
     },
     "execution_count": 25,
     "metadata": {},
     "output_type": "execute_result"
    }
   ],
   "source": [
    "test2.json()[0]"
   ]
  },
  {
   "cell_type": "code",
   "execution_count": 26,
   "metadata": {},
   "outputs": [
    {
     "data": {
      "text/plain": [
       "{'date': '2019-09-28',\n",
       " 'symbol': 'AAPL',\n",
       " 'reportedCurrency': 'USD',\n",
       " 'fillingDate': '2019-10-31 00:00:00',\n",
       " 'acceptedDate': '2019-10-30 18:12:36',\n",
       " 'period': 'FY',\n",
       " 'revenue': 260174000000,\n",
       " 'costOfRevenue': 161782000000,\n",
       " 'grossProfit': 98392000000,\n",
       " 'grossProfitRatio': 0.3781776810903472,\n",
       " 'researchAndDevelopmentExpenses': 16217000000,\n",
       " 'generalAndAdministrativeExpenses': 18245000000,\n",
       " 'sellingAndMarketingExpenses': 0.0,\n",
       " 'otherExpenses': 422000000,\n",
       " 'operatingExpenses': 34462000000,\n",
       " 'costAndExpenses': 196244000000,\n",
       " 'interestExpense': 3576000000,\n",
       " 'depreciationAndAmortization': 12547000000,\n",
       " 'ebitda': 81860000000,\n",
       " 'ebitdaratio': 0.3146355900282119,\n",
       " 'operatingIncome': 63930000000,\n",
       " 'operatingIncomeRatio': 0.2526655238417367,\n",
       " 'totalOtherIncomeExpensesNet': 422000000,\n",
       " 'incomeBeforeTax': 65737000000,\n",
       " 'incomeBeforeTaxRatio': 0.2526655238417367,\n",
       " 'incomeTaxExpense': 10481000000,\n",
       " 'netIncome': 55256000000,\n",
       " 'netIncomeRatio': 0.21238094505984456,\n",
       " 'eps': 2.9925,\n",
       " 'epsdiluted': 2.9725,\n",
       " 'weightedAverageShsOut': 18471336000,\n",
       " 'weightedAverageShsOutDil': 18595652000,\n",
       " 'link': 'https://www.sec.gov/Archives/edgar/data/320193/000032019319000119/0000320193-19-000119-index.html',\n",
       " 'finalLink': 'https://www.sec.gov/Archives/edgar/data/320193/000032019319000119/a10-k20199282019.htm'}"
      ]
     },
     "execution_count": 26,
     "metadata": {},
     "output_type": "execute_result"
    }
   ],
   "source": [
    "test2.json()[1]"
   ]
  },
  {
   "cell_type": "code",
   "execution_count": 27,
   "metadata": {},
   "outputs": [
    {
     "data": {
      "text/plain": [
       "{'date': '2018-09-29',\n",
       " 'symbol': 'AAPL',\n",
       " 'reportedCurrency': 'USD',\n",
       " 'fillingDate': '2018-11-05 00:00:00',\n",
       " 'acceptedDate': '2018-11-05 08:01:40',\n",
       " 'period': 'FY',\n",
       " 'revenue': 265595000000,\n",
       " 'costOfRevenue': 163756000000,\n",
       " 'grossProfit': 101839000000,\n",
       " 'grossProfitRatio': 0.38343718820007905,\n",
       " 'researchAndDevelopmentExpenses': 14236000000,\n",
       " 'generalAndAdministrativeExpenses': 16705000000,\n",
       " 'sellingAndMarketingExpenses': 0.0,\n",
       " 'otherExpenses': -441000000,\n",
       " 'operatingExpenses': 30941000000,\n",
       " 'costAndExpenses': 194697000000,\n",
       " 'interestExpense': 3240000000,\n",
       " 'depreciationAndAmortization': 10903000000,\n",
       " 'ebitda': 87046000000,\n",
       " 'ebitdaratio': 0.327739603531693,\n",
       " 'operatingIncome': 70898000000,\n",
       " 'operatingIncomeRatio': 0.27448935409175623,\n",
       " 'totalOtherIncomeExpensesNet': -441000000,\n",
       " 'incomeBeforeTax': 72903000000,\n",
       " 'incomeBeforeTaxRatio': 0.27448935409175623,\n",
       " 'incomeTaxExpense': 13372000000,\n",
       " 'netIncome': 59531000000,\n",
       " 'netIncomeRatio': 0.22414202074587247,\n",
       " 'eps': 3.0025,\n",
       " 'epsdiluted': 2.9775,\n",
       " 'weightedAverageShsOut': 19821508000,\n",
       " 'weightedAverageShsOutDil': 20000436000,\n",
       " 'link': 'https://www.sec.gov/Archives/edgar/data/320193/000032019318000145/0000320193-18-000145-index.html',\n",
       " 'finalLink': 'https://www.sec.gov/Archives/edgar/data/320193/000032019318000145/a10-k20189292018.htm'}"
      ]
     },
     "execution_count": 27,
     "metadata": {},
     "output_type": "execute_result"
    }
   ],
   "source": [
    "test2.json()[2]"
   ]
  },
  {
   "cell_type": "code",
   "execution_count": 29,
   "metadata": {},
   "outputs": [
    {
     "data": {
      "text/plain": [
       "{'date': '2016-09-24',\n",
       " 'symbol': 'AAPL',\n",
       " 'reportedCurrency': 'USD',\n",
       " 'fillingDate': '2016-10-26 00:00:00',\n",
       " 'acceptedDate': '2016-10-26 16:42:16',\n",
       " 'period': 'FY',\n",
       " 'revenue': 215639000000,\n",
       " 'costOfRevenue': 131376000000,\n",
       " 'grossProfit': 84263000000,\n",
       " 'grossProfitRatio': 0.3907595564809705,\n",
       " 'researchAndDevelopmentExpenses': 10045000000,\n",
       " 'generalAndAdministrativeExpenses': 14194000000,\n",
       " 'sellingAndMarketingExpenses': 0.0,\n",
       " 'otherExpenses': -1195000000,\n",
       " 'operatingExpenses': 24239000000,\n",
       " 'costAndExpenses': 155615000000,\n",
       " 'interestExpense': 1456000000,\n",
       " 'depreciationAndAmortization': 10505000000,\n",
       " 'ebitda': 73333000000,\n",
       " 'ebitdaratio': 0.34007299236223504,\n",
       " 'operatingIncome': 60024000000,\n",
       " 'operatingIncomeRatio': 0.284605289395703,\n",
       " 'totalOtherIncomeExpensesNet': -1195000000,\n",
       " 'incomeBeforeTax': 61372000000,\n",
       " 'incomeBeforeTaxRatio': 0.284605289395703,\n",
       " 'incomeTaxExpense': 15685000000,\n",
       " 'netIncome': 45687000000,\n",
       " 'netIncomeRatio': 0.211867983064288,\n",
       " 'eps': 2.0875,\n",
       " 'epsdiluted': 2.0775,\n",
       " 'weightedAverageShsOut': 21883280000,\n",
       " 'weightedAverageShsOutDil': 22001124000,\n",
       " 'link': 'https://www.sec.gov/Archives/edgar/data/320193/000162828016020309/0001628280-16-020309-index.html',\n",
       " 'finalLink': 'https://www.sec.gov/Archives/edgar/data/320193/000162828016020309/a201610-k9242016.htm'}"
      ]
     },
     "execution_count": 29,
     "metadata": {},
     "output_type": "execute_result"
    }
   ],
   "source": [
    "test2.json()[4]"
   ]
  },
  {
   "cell_type": "code",
   "execution_count": 32,
   "metadata": {},
   "outputs": [
    {
     "data": {
      "text/plain": [
       "274515000000"
      ]
     },
     "execution_count": 32,
     "metadata": {},
     "output_type": "execute_result"
    }
   ],
   "source": [
    "test2.json()[0]['revenue']"
   ]
  },
  {
   "cell_type": "code",
   "execution_count": null,
   "metadata": {},
   "outputs": [],
   "source": [
    "revenue = test2"
   ]
  }
 ],
 "metadata": {
  "kernelspec": {
   "display_name": "Python 3",
   "language": "python",
   "name": "python3"
  },
  "language_info": {
   "codemirror_mode": {
    "name": "ipython",
    "version": 3
   },
   "file_extension": ".py",
   "mimetype": "text/x-python",
   "name": "python",
   "nbconvert_exporter": "python",
   "pygments_lexer": "ipython3",
   "version": "3.7.4"
  }
 },
 "nbformat": 4,
 "nbformat_minor": 4
}
