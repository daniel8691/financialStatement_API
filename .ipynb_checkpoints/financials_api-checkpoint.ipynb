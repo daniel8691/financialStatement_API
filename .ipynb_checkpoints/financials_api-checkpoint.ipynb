{
 "cells": [
  {
   "cell_type": "code",
   "execution_count": 1,
   "metadata": {},
   "outputs": [],
   "source": [
    "from config import model_api"
   ]
  },
  {
   "cell_type": "code",
   "execution_count": 2,
   "metadata": {},
   "outputs": [],
   "source": [
    "import pandas as pd\n",
    "import numpy as np\n",
    "import matplotlib.pyplot as plt"
   ]
  },
  {
   "cell_type": "code",
   "execution_count": 3,
   "metadata": {},
   "outputs": [],
   "source": [
    "import requests"
   ]
  },
  {
   "cell_type": "code",
   "execution_count": 18,
   "metadata": {},
   "outputs": [],
   "source": [
    "ticker = \"AYRO\"\n",
    "incomeAnnual_url = f\"https://financialmodelingprep.com/api/v3/income-statement/{ticker}?apikey={model_api}\"\n",
    "incomeQuarter_url = f\"https://financialmodelingprep.com/api/v3/income-statement/{ticker}?apikey={model_api}&period=quarter&limit=20\"\n",
    "cashFlowQuarter_url = f\"https://financialmodelingprep.com/api/v3/cash-flow-statement/{ticker}?apikey={model_api}&period=quarter&limit=20\"\n",
    "keyStats_url = f\"https://financialmodelingprep.com/api/v3/profile/{ticker}?apikey={model_api}\""
   ]
  },
  {
   "cell_type": "code",
   "execution_count": 19,
   "metadata": {},
   "outputs": [],
   "source": [
    "income_json = requests.get(incomeQuarter_url).json()\n",
    "cashFlow_json = requests.get(cashFlowQuarter_url).json()\n"
   ]
  },
  {
   "cell_type": "code",
   "execution_count": 34,
   "metadata": {},
   "outputs": [],
   "source": [
    "keyStats_url = requests.get(keyStats_url).json()"
   ]
  },
  {
   "cell_type": "code",
   "execution_count": 35,
   "metadata": {},
   "outputs": [
    {
     "data": {
      "text/plain": [
       "[{'symbol': 'AYRO',\n",
       "  'price': 8.64,\n",
       "  'beta': 2.61234,\n",
       "  'volAvg': 8851822,\n",
       "  'mktCap': 247728688,\n",
       "  'lastDiv': 0.0,\n",
       "  'range': '1.8-11.5',\n",
       "  'changes': -0.28,\n",
       "  'companyName': 'AYRO Inc',\n",
       "  'currency': 'USD',\n",
       "  'cik': None,\n",
       "  'isin': 'US0547481087',\n",
       "  'cusip': '054748108',\n",
       "  'exchange': 'Nasdaq Global Select',\n",
       "  'exchangeShortName': 'NASDAQ',\n",
       "  'industry': 'Auto Manufacturers',\n",
       "  'website': 'https://ayro.com/',\n",
       "  'description': 'AYRO, Inc. (AYRO), formerly DropCar, Inc., is a designer and manufacturer of purpose-built, automotive-grade electric vehicles (EV). The Company’s EV models include AYRO 311 and Club Car 411. AYRO 311 is a three-wheeled vehicle with inline seating and four-door access for professional and personal use. The Company offers its AYRO 311 with multiple configurations including fully enclosed two-seater, half doors and one-seater with the cargo area. The Club Car 411 is a compact all-electric vehicle suitable for low-speed logistics and cargo services. The Company offers Club Car 411 with multiple bed configurations including a fully enclosed box truck, pickup bed and flatbed. AYRO delivers electric vehicle solutions for campus management, last-mile delivery, urban commuting and closed campus transport.',\n",
       "  'ceo': 'Rodney C. Keller Jr.',\n",
       "  'sector': 'Consumer Cyclical',\n",
       "  'country': 'US',\n",
       "  'fullTimeEmployees': '15',\n",
       "  'phone': '15129944917',\n",
       "  'address': '900 E. Old Settlers Boulevard, Suite 100',\n",
       "  'city': 'Round Rock',\n",
       "  'state': 'TEXAS',\n",
       "  'zip': '78665',\n",
       "  'dcfDiff': None,\n",
       "  'dcf': None,\n",
       "  'image': 'https://financialmodelingprep.com/image-stock/AYRO.jpg',\n",
       "  'ipoDate': '2000-01-10',\n",
       "  'defaultImage': True,\n",
       "  'isEtf': False,\n",
       "  'isActivelyTrading': True}]"
      ]
     },
     "execution_count": 35,
     "metadata": {},
     "output_type": "execute_result"
    }
   ],
   "source": [
    "keyStats_url"
   ]
  },
  {
   "cell_type": "code",
   "execution_count": 33,
   "metadata": {},
   "outputs": [
    {
     "data": {
      "text/plain": [
       "5"
      ]
     },
     "execution_count": 33,
     "metadata": {},
     "output_type": "execute_result"
    }
   ],
   "source": [
    "len(income_json)"
   ]
  },
  {
   "cell_type": "code",
   "execution_count": 31,
   "metadata": {},
   "outputs": [],
   "source": [
    "# create a funciton that outputs all financial statement information\n",
    "\n",
    "# define the rows for the DataFrame\n",
    "rows = ['Operating Margin', \"Operating Income/Loss\", \"Gross Profit\", \"Net Income\"]\n",
    "# determine revenue\n",
    "revenue = income_json[0]['revenue'] / 1000\n",
    "# determine gross profit\n",
    "gross_profit = income_json[0]['grossProfit'] / 1000\n",
    "# determine operating expenses\n",
    "operating_expenses = income_json[0]['operatingExpenses'] / 1000\n",
    "# determine net income\n",
    "net_income = income_json[0]['netIncome'] / 1000\n",
    "# calculate operating income\n",
    "operating_income = gross_profit - operating_expenses\n",
    "# calculate operating margin\n",
    "operating_margin = operating_income / revenue\n",
    "\n"
   ]
  },
  {
   "cell_type": "code",
   "execution_count": 32,
   "metadata": {},
   "outputs": [
    {
     "data": {
      "text/html": [
       "<div>\n",
       "<style scoped>\n",
       "    .dataframe tbody tr th:only-of-type {\n",
       "        vertical-align: middle;\n",
       "    }\n",
       "\n",
       "    .dataframe tbody tr th {\n",
       "        vertical-align: top;\n",
       "    }\n",
       "\n",
       "    .dataframe thead th {\n",
       "        text-align: right;\n",
       "    }\n",
       "</style>\n",
       "<table border=\"1\" class=\"dataframe\">\n",
       "  <thead>\n",
       "    <tr style=\"text-align: right;\">\n",
       "      <th></th>\n",
       "      <th>2020-09-30</th>\n",
       "    </tr>\n",
       "  </thead>\n",
       "  <tbody>\n",
       "    <tr>\n",
       "      <th>Operating Margin</th>\n",
       "      <td>-6.14701</td>\n",
       "    </tr>\n",
       "    <tr>\n",
       "      <th>Operating Income/Loss</th>\n",
       "      <td>-2389.06000</td>\n",
       "    </tr>\n",
       "    <tr>\n",
       "      <th>Gross Profit</th>\n",
       "      <td>61.98300</td>\n",
       "    </tr>\n",
       "    <tr>\n",
       "      <th>Net Income</th>\n",
       "      <td>-2680.72600</td>\n",
       "    </tr>\n",
       "  </tbody>\n",
       "</table>\n",
       "</div>"
      ],
      "text/plain": [
       "                       2020-09-30\n",
       "Operating Margin         -6.14701\n",
       "Operating Income/Loss -2389.06000\n",
       "Gross Profit             61.98300\n",
       "Net Income            -2680.72600"
      ]
     },
     "execution_count": 32,
     "metadata": {},
     "output_type": "execute_result"
    }
   ],
   "source": [
    "pd.DataFrame({income_json[0]['date']: [operating_margin, \n",
    "                                       operating_income,\n",
    "                                       gross_profit,\n",
    "                                       net_income]}, \n",
    "             index=rows)"
   ]
  },
  {
   "cell_type": "code",
   "execution_count": 22,
   "metadata": {},
   "outputs": [
    {
     "data": {
      "text/plain": [
       "[{'date': '2020-09-30',\n",
       "  'symbol': 'AYRO',\n",
       "  'reportedCurrency': 'USD',\n",
       "  'fillingDate': '2020-11-06',\n",
       "  'acceptedDate': '2020-11-06 08:00:37',\n",
       "  'period': 'Q3',\n",
       "  'netIncome': -2680726.0,\n",
       "  'depreciationAndAmortization': 146177.0,\n",
       "  'deferredIncomeTax': 0.0,\n",
       "  'stockBasedCompensation': 167767.0,\n",
       "  'changeInWorkingCapital': -1742486.0,\n",
       "  'accountsReceivables': -105307.0,\n",
       "  'inventory': -466128.0,\n",
       "  'accountsPayables': 226716.0,\n",
       "  'otherWorkingCapital': 58610.0,\n",
       "  'otherNonCashItems': 66659.0,\n",
       "  'netCashProvidedByOperatingActivities': -3824572.0,\n",
       "  'investmentsInPropertyPlantAndEquipment': 0.0,\n",
       "  'acquisitionsNet': 0.0,\n",
       "  'purchasesOfInvestments': 0.0,\n",
       "  'salesMaturitiesOfInvestments': 0.0,\n",
       "  'otherInvestingActivites': 0.0,\n",
       "  'netCashUsedForInvestingActivites': 0.0,\n",
       "  'debtRepayment': -639483.0,\n",
       "  'commonStockIssued': 22335003,\n",
       "  'commonStockRepurchased': 0.0,\n",
       "  'dividendsPaid': 0.0,\n",
       "  'otherFinancingActivites': 0.0,\n",
       "  'netCashUsedProvidedByFinancingActivities': 0.0,\n",
       "  'effectOfForexChangesOnCash': 0.0,\n",
       "  'netChangeInCash': 19998718,\n",
       "  'cashAtEndOfPeriod': 27916838,\n",
       "  'cashAtBeginningOfPeriod': 7918120.0,\n",
       "  'operatingCashFlow': -3824572.0,\n",
       "  'capitalExpenditure': -340419.0,\n",
       "  'freeCashFlow': -4164991.0,\n",
       "  'link': 'https://www.sec.gov/Archives/edgar/data/1086745/000149315220020639/0001493152-20-020639-index.htm',\n",
       "  'finalLink': 'https://www.sec.gov/Archives/edgar/data/1086745/000149315220020639/form10-q.htm'},\n",
       " {'date': '2020-06-30',\n",
       "  'symbol': 'AYRO',\n",
       "  'reportedCurrency': 'USD',\n",
       "  'fillingDate': None,\n",
       "  'acceptedDate': None,\n",
       "  'period': 'Q2',\n",
       "  'netIncome': -2268350.0,\n",
       "  'depreciationAndAmortization': 228460.0,\n",
       "  'deferredIncomeTax': 0.0,\n",
       "  'stockBasedCompensation': 0.0,\n",
       "  'changeInWorkingCapital': 6455320.0,\n",
       "  'accountsReceivables': 0.0,\n",
       "  'inventory': 0.0,\n",
       "  'accountsPayables': 0.0,\n",
       "  'otherWorkingCapital': 7905910.0,\n",
       "  'otherNonCashItems': 725540.0000000001,\n",
       "  'netCashProvidedByOperatingActivities': -2040300.0,\n",
       "  'investmentsInPropertyPlantAndEquipment': 0.0,\n",
       "  'acquisitionsNet': 0.0,\n",
       "  'purchasesOfInvestments': 0.0,\n",
       "  'salesMaturitiesOfInvestments': 0.0,\n",
       "  'otherInvestingActivites': 0.0,\n",
       "  'netCashUsedForInvestingActivites': 2838370.0,\n",
       "  'debtRepayment': 0.0,\n",
       "  'commonStockIssued': 0.0,\n",
       "  'commonStockRepurchased': 6971330.0,\n",
       "  'dividendsPaid': 0.0,\n",
       "  'otherFinancingActivites': 0.0,\n",
       "  'netCashUsedProvidedByFinancingActivities': 7185930.0,\n",
       "  'effectOfForexChangesOnCash': 0.0,\n",
       "  'netChangeInCash': 7984000.0,\n",
       "  'cashAtEndOfPeriod': 11535390,\n",
       "  'cashAtBeginningOfPeriod': 3551390.0,\n",
       "  'operatingCashFlow': -2040300.0,\n",
       "  'capitalExpenditure': -252450.0,\n",
       "  'freeCashFlow': -2292750.0,\n",
       "  'link': None,\n",
       "  'finalLink': None},\n",
       " {'date': '2020-03-31',\n",
       "  'symbol': 'AYRO',\n",
       "  'reportedCurrency': 'USD',\n",
       "  'fillingDate': '2020-03-31',\n",
       "  'acceptedDate': '2020-03-31',\n",
       "  'period': 'Q1',\n",
       "  'netIncome': -1057660.0,\n",
       "  'depreciationAndAmortization': 0.0,\n",
       "  'deferredIncomeTax': 0.0,\n",
       "  'stockBasedCompensation': 0.0,\n",
       "  'changeInWorkingCapital': -976360.0,\n",
       "  'accountsReceivables': 0.0,\n",
       "  'inventory': 0.0,\n",
       "  'accountsPayables': 0.0,\n",
       "  'otherWorkingCapital': 1450590.0,\n",
       "  'otherNonCashItems': 160360.0,\n",
       "  'netCashProvidedByOperatingActivities': -677620.0,\n",
       "  'investmentsInPropertyPlantAndEquipment': 0.0,\n",
       "  'acquisitionsNet': 0.0,\n",
       "  'purchasesOfInvestments': 0.0,\n",
       "  'salesMaturitiesOfInvestments': 0.0,\n",
       "  'otherInvestingActivites': 0.0,\n",
       "  'netCashUsedForInvestingActivites': -30080.0,\n",
       "  'debtRepayment': 0.0,\n",
       "  'commonStockIssued': 0.0,\n",
       "  'commonStockRepurchased': 0.0,\n",
       "  'dividendsPaid': 0.0,\n",
       "  'otherFinancingActivites': 0.0,\n",
       "  'netCashUsedProvidedByFinancingActivities': 0.0,\n",
       "  'effectOfForexChangesOnCash': 0.0,\n",
       "  'netChangeInCash': -707700.0,\n",
       "  'cashAtEndOfPeriod': 3551390.0,\n",
       "  'cashAtBeginningOfPeriod': 4259090.0,\n",
       "  'operatingCashFlow': -677620.0,\n",
       "  'capitalExpenditure': 0.0,\n",
       "  'freeCashFlow': -677620.0,\n",
       "  'link': None,\n",
       "  'finalLink': None},\n",
       " {'date': '2019-12-31',\n",
       "  'symbol': 'AYRO',\n",
       "  'reportedCurrency': 'USD',\n",
       "  'fillingDate': '2020-03-30',\n",
       "  'acceptedDate': None,\n",
       "  'period': 'Q4',\n",
       "  'netIncome': -1225710.0,\n",
       "  'depreciationAndAmortization': -837789000,\n",
       "  'deferredIncomeTax': 43000000,\n",
       "  'stockBasedCompensation': 280275000,\n",
       "  'changeInWorkingCapital': 1177650.0,\n",
       "  'accountsReceivables': 2265623000,\n",
       "  'inventory': 318916000,\n",
       "  'accountsPayables': 424952000,\n",
       "  'otherWorkingCapital': 2426950.0,\n",
       "  'otherNonCashItems': 609470.0000000001,\n",
       "  'netCashProvidedByOperatingActivities': -195959.9999999999,\n",
       "  'investmentsInPropertyPlantAndEquipment': 234792000,\n",
       "  'acquisitionsNet': 0.0,\n",
       "  'purchasesOfInvestments': 0.0,\n",
       "  'salesMaturitiesOfInvestments': 0.0,\n",
       "  'otherInvestingActivites': 0.0,\n",
       "  'netCashUsedForInvestingActivites': -24270.0,\n",
       "  'debtRepayment': 2073000.0,\n",
       "  'commonStockIssued': -5511499000,\n",
       "  'commonStockRepurchased': 2515000.0000000005,\n",
       "  'dividendsPaid': 57875000,\n",
       "  'otherFinancingActivites': 0.0,\n",
       "  'netCashUsedProvidedByFinancingActivities': 2300000.0,\n",
       "  'effectOfForexChangesOnCash': 0.0,\n",
       "  'netChangeInCash': 2079770.0,\n",
       "  'cashAtEndOfPeriod': 4674660.0,\n",
       "  'cashAtBeginningOfPeriod': 2594890.0,\n",
       "  'operatingCashFlow': -195959.9999999999,\n",
       "  'capitalExpenditure': -234792000,\n",
       "  'freeCashFlow': -195959.9999999999,\n",
       "  'link': 'https://www.sec.gov/Archives/edgar/data/1086745/000165495420003510/0001654954-20-003510-index.htm',\n",
       "  'finalLink': 'https://www.sec.gov/Archives/edgar/data/1086745/000165495420003510/dcar_10k.htm'},\n",
       " {'date': '2019-09-30',\n",
       "  'symbol': 'AYRO',\n",
       "  'reportedCurrency': 'USD',\n",
       "  'fillingDate': '2019-09-30',\n",
       "  'acceptedDate': '2019-09-30',\n",
       "  'period': 'Q3',\n",
       "  'netIncome': -2141840.0,\n",
       "  'depreciationAndAmortization': 129407.0,\n",
       "  'deferredIncomeTax': 0.0,\n",
       "  'stockBasedCompensation': 752965.0,\n",
       "  'changeInWorkingCapital': 718301.0,\n",
       "  'accountsReceivables': 60897.0,\n",
       "  'inventory': 92370.0,\n",
       "  'accountsPayables': 385579.0,\n",
       "  'otherWorkingCapital': 0.0,\n",
       "  'otherNonCashItems': 32767.0,\n",
       "  'netCashProvidedByOperatingActivities': -508400.0,\n",
       "  'investmentsInPropertyPlantAndEquipment': 0.0,\n",
       "  'acquisitionsNet': 0.0,\n",
       "  'purchasesOfInvestments': 0.0,\n",
       "  'salesMaturitiesOfInvestments': 0.0,\n",
       "  'otherInvestingActivites': 0.0,\n",
       "  'netCashUsedForInvestingActivites': 0.0,\n",
       "  'debtRepayment': 288383.0,\n",
       "  'commonStockIssued': 370.0,\n",
       "  'commonStockRepurchased': 0.0,\n",
       "  'dividendsPaid': 0.0,\n",
       "  'otherFinancingActivites': 0.0,\n",
       "  'netCashUsedProvidedByFinancingActivities': 0.0,\n",
       "  'effectOfForexChangesOnCash': 0.0,\n",
       "  'netChangeInCash': -168336.0,\n",
       "  'cashAtEndOfPeriod': 60823.0,\n",
       "  'cashAtBeginningOfPeriod': 229159.0,\n",
       "  'operatingCashFlow': -508400.0,\n",
       "  'capitalExpenditure': -28688.0,\n",
       "  'freeCashFlow': -537088.0,\n",
       "  'link': None,\n",
       "  'finalLink': None}]"
      ]
     },
     "execution_count": 22,
     "metadata": {},
     "output_type": "execute_result"
    }
   ],
   "source": [
    "cashFlow_json"
   ]
  },
  {
   "cell_type": "code",
   "execution_count": null,
   "metadata": {},
   "outputs": [],
   "source": []
  },
  {
   "cell_type": "code",
   "execution_count": 26,
   "metadata": {},
   "outputs": [],
   "source": [
    "## CASH FLOW STATEMENT\n",
    "cashRows = [\"cash from operating activities\",\n",
    "           \"cash used for investing activities\",\n",
    "           \"cash used provided by financing activities\",\n",
    "           \"acquisitions\",\n",
    "           \"purchase of investments\",\n",
    "           \"sales maturities of investments\",\n",
    "           \"net change in cash\",\n",
    "           \"free cash flow\",\n",
    "           \"common stock repurchased\"]\n",
    "cashOperatingActivities = cashFlow_json[0]['netCashProvidedByOperatingActivities']\n",
    "cashInvestingActivities = cashFlow_json[0]['netCashUsedForInvestingActivites']\n",
    "cashFinancingActivities = cashFlow_json[0]['netCashUsedProvidedByFinancingActivities']\n",
    "acquisitions = cashFlow_json[0]['acquisitionsNet']\n",
    "purchaseInvestments = cashFlow_json[0]['purchasesOfInvestments']\n",
    "investmentMaturities = cashFlow_json[0]['salesMaturitiesOfInvestments']\n",
    "changeCash = cashFlow_json[0]['netChangeInCash']\n",
    "freeCashFlow = cashFlow_json[0]['freeCashFlow']\n",
    "stockRepurchase = cashFlow_json[0]['commonStockRepurchased']"
   ]
  },
  {
   "cell_type": "code",
   "execution_count": 29,
   "metadata": {},
   "outputs": [
    {
     "data": {
      "text/html": [
       "<div>\n",
       "<style scoped>\n",
       "    .dataframe tbody tr th:only-of-type {\n",
       "        vertical-align: middle;\n",
       "    }\n",
       "\n",
       "    .dataframe tbody tr th {\n",
       "        vertical-align: top;\n",
       "    }\n",
       "\n",
       "    .dataframe thead th {\n",
       "        text-align: right;\n",
       "    }\n",
       "</style>\n",
       "<table border=\"1\" class=\"dataframe\">\n",
       "  <thead>\n",
       "    <tr style=\"text-align: right;\">\n",
       "      <th></th>\n",
       "      <th>2020-09-30</th>\n",
       "    </tr>\n",
       "  </thead>\n",
       "  <tbody>\n",
       "    <tr>\n",
       "      <th>cash from operating activities</th>\n",
       "      <td>-3824572.0</td>\n",
       "    </tr>\n",
       "    <tr>\n",
       "      <th>cash used for investing activities</th>\n",
       "      <td>0.0</td>\n",
       "    </tr>\n",
       "    <tr>\n",
       "      <th>cash used provided by financing activities</th>\n",
       "      <td>0.0</td>\n",
       "    </tr>\n",
       "    <tr>\n",
       "      <th>acquisitions</th>\n",
       "      <td>0.0</td>\n",
       "    </tr>\n",
       "    <tr>\n",
       "      <th>purchase of investments</th>\n",
       "      <td>0.0</td>\n",
       "    </tr>\n",
       "    <tr>\n",
       "      <th>sales maturities of investments</th>\n",
       "      <td>0.0</td>\n",
       "    </tr>\n",
       "    <tr>\n",
       "      <th>net change in cash</th>\n",
       "      <td>19998718.0</td>\n",
       "    </tr>\n",
       "    <tr>\n",
       "      <th>free cash flow</th>\n",
       "      <td>-4164991.0</td>\n",
       "    </tr>\n",
       "    <tr>\n",
       "      <th>common stock repurchased</th>\n",
       "      <td>0.0</td>\n",
       "    </tr>\n",
       "  </tbody>\n",
       "</table>\n",
       "</div>"
      ],
      "text/plain": [
       "                                            2020-09-30\n",
       "cash from operating activities              -3824572.0\n",
       "cash used for investing activities                 0.0\n",
       "cash used provided by financing activities         0.0\n",
       "acquisitions                                       0.0\n",
       "purchase of investments                            0.0\n",
       "sales maturities of investments                    0.0\n",
       "net change in cash                          19998718.0\n",
       "free cash flow                              -4164991.0\n",
       "common stock repurchased                           0.0"
      ]
     },
     "execution_count": 29,
     "metadata": {},
     "output_type": "execute_result"
    }
   ],
   "source": [
    "pd.DataFrame({cashFlow_json[0]['date']: [cashOperatingActivities,\n",
    "                                        cashInvestingActivities,\n",
    "                                        cashFinancingActivities,\n",
    "                                        acquisitions,\n",
    "                                        purchaseInvestments,\n",
    "                                        investmentMaturities,\n",
    "                                        changeCash,\n",
    "                                        freeCashFlow,\n",
    "                                        stockRepurchase]}, \n",
    "             index=cashRows)"
   ]
  },
  {
   "cell_type": "code",
   "execution_count": null,
   "metadata": {},
   "outputs": [],
   "source": []
  },
  {
   "cell_type": "code",
   "execution_count": null,
   "metadata": {},
   "outputs": [],
   "source": []
  },
  {
   "cell_type": "code",
   "execution_count": null,
   "metadata": {},
   "outputs": [],
   "source": []
  },
  {
   "cell_type": "code",
   "execution_count": null,
   "metadata": {},
   "outputs": [],
   "source": []
  },
  {
   "cell_type": "code",
   "execution_count": 16,
   "metadata": {},
   "outputs": [],
   "source": [
    "test = requests.get(keyStats_url)"
   ]
  },
  {
   "cell_type": "code",
   "execution_count": 22,
   "metadata": {},
   "outputs": [],
   "source": [
    "test2 = requests.get(incomeStatement_url)"
   ]
  },
  {
   "cell_type": "code",
   "execution_count": 25,
   "metadata": {},
   "outputs": [
    {
     "data": {
      "text/plain": [
       "{'date': '2020-09-26',\n",
       " 'symbol': 'AAPL',\n",
       " 'reportedCurrency': 'USD',\n",
       " 'fillingDate': '2020-10-30',\n",
       " 'acceptedDate': '2020-10-29 18:06:25',\n",
       " 'period': 'FY',\n",
       " 'revenue': 274515000000,\n",
       " 'costOfRevenue': 169559000000,\n",
       " 'grossProfit': 104956000000,\n",
       " 'grossProfitRatio': 0.382332477278109,\n",
       " 'researchAndDevelopmentExpenses': 18752000000,\n",
       " 'generalAndAdministrativeExpenses': 19916000000,\n",
       " 'sellingAndMarketingExpenses': 0.0,\n",
       " 'otherExpenses': -87000000,\n",
       " 'operatingExpenses': 38668000000,\n",
       " 'costAndExpenses': 208227000000,\n",
       " 'interestExpense': 2873000000,\n",
       " 'depreciationAndAmortization': 11056000000,\n",
       " 'ebitda': 81020000000,\n",
       " 'ebitdaratio': 0.295138699160337,\n",
       " 'operatingIncome': 66288000000,\n",
       " 'operatingIncomeRatio': 0.244398302460703,\n",
       " 'totalOtherIncomeExpensesNet': -87000000,\n",
       " 'incomeBeforeTax': 67091000000,\n",
       " 'incomeBeforeTaxRatio': 0.244398302460703,\n",
       " 'incomeTaxExpense': 9680000000,\n",
       " 'netIncome': 57411000000,\n",
       " 'netIncomeRatio': 0.209136112780722,\n",
       " 'eps': 3.36,\n",
       " 'epsdiluted': 3.36,\n",
       " 'weightedAverageShsOut': 17057622000,\n",
       " 'weightedAverageShsOutDil': 17256521000,\n",
       " 'link': 'https://www.sec.gov/Archives/edgar/data/320193/000032019320000096/0000320193-20-000096-index.htm',\n",
       " 'finalLink': 'https://www.sec.gov/Archives/edgar/data/320193/000032019320000096/aapl-20200926.htm'}"
      ]
     },
     "execution_count": 25,
     "metadata": {},
     "output_type": "execute_result"
    }
   ],
   "source": [
    "test2.json()[0]"
   ]
  },
  {
   "cell_type": "code",
   "execution_count": 26,
   "metadata": {},
   "outputs": [
    {
     "data": {
      "text/plain": [
       "{'date': '2019-09-28',\n",
       " 'symbol': 'AAPL',\n",
       " 'reportedCurrency': 'USD',\n",
       " 'fillingDate': '2019-10-31 00:00:00',\n",
       " 'acceptedDate': '2019-10-30 18:12:36',\n",
       " 'period': 'FY',\n",
       " 'revenue': 260174000000,\n",
       " 'costOfRevenue': 161782000000,\n",
       " 'grossProfit': 98392000000,\n",
       " 'grossProfitRatio': 0.3781776810903472,\n",
       " 'researchAndDevelopmentExpenses': 16217000000,\n",
       " 'generalAndAdministrativeExpenses': 18245000000,\n",
       " 'sellingAndMarketingExpenses': 0.0,\n",
       " 'otherExpenses': 422000000,\n",
       " 'operatingExpenses': 34462000000,\n",
       " 'costAndExpenses': 196244000000,\n",
       " 'interestExpense': 3576000000,\n",
       " 'depreciationAndAmortization': 12547000000,\n",
       " 'ebitda': 81860000000,\n",
       " 'ebitdaratio': 0.3146355900282119,\n",
       " 'operatingIncome': 63930000000,\n",
       " 'operatingIncomeRatio': 0.2526655238417367,\n",
       " 'totalOtherIncomeExpensesNet': 422000000,\n",
       " 'incomeBeforeTax': 65737000000,\n",
       " 'incomeBeforeTaxRatio': 0.2526655238417367,\n",
       " 'incomeTaxExpense': 10481000000,\n",
       " 'netIncome': 55256000000,\n",
       " 'netIncomeRatio': 0.21238094505984456,\n",
       " 'eps': 2.9925,\n",
       " 'epsdiluted': 2.9725,\n",
       " 'weightedAverageShsOut': 18471336000,\n",
       " 'weightedAverageShsOutDil': 18595652000,\n",
       " 'link': 'https://www.sec.gov/Archives/edgar/data/320193/000032019319000119/0000320193-19-000119-index.html',\n",
       " 'finalLink': 'https://www.sec.gov/Archives/edgar/data/320193/000032019319000119/a10-k20199282019.htm'}"
      ]
     },
     "execution_count": 26,
     "metadata": {},
     "output_type": "execute_result"
    }
   ],
   "source": [
    "test2.json()[1]"
   ]
  },
  {
   "cell_type": "code",
   "execution_count": 27,
   "metadata": {},
   "outputs": [
    {
     "data": {
      "text/plain": [
       "{'date': '2018-09-29',\n",
       " 'symbol': 'AAPL',\n",
       " 'reportedCurrency': 'USD',\n",
       " 'fillingDate': '2018-11-05 00:00:00',\n",
       " 'acceptedDate': '2018-11-05 08:01:40',\n",
       " 'period': 'FY',\n",
       " 'revenue': 265595000000,\n",
       " 'costOfRevenue': 163756000000,\n",
       " 'grossProfit': 101839000000,\n",
       " 'grossProfitRatio': 0.38343718820007905,\n",
       " 'researchAndDevelopmentExpenses': 14236000000,\n",
       " 'generalAndAdministrativeExpenses': 16705000000,\n",
       " 'sellingAndMarketingExpenses': 0.0,\n",
       " 'otherExpenses': -441000000,\n",
       " 'operatingExpenses': 30941000000,\n",
       " 'costAndExpenses': 194697000000,\n",
       " 'interestExpense': 3240000000,\n",
       " 'depreciationAndAmortization': 10903000000,\n",
       " 'ebitda': 87046000000,\n",
       " 'ebitdaratio': 0.327739603531693,\n",
       " 'operatingIncome': 70898000000,\n",
       " 'operatingIncomeRatio': 0.27448935409175623,\n",
       " 'totalOtherIncomeExpensesNet': -441000000,\n",
       " 'incomeBeforeTax': 72903000000,\n",
       " 'incomeBeforeTaxRatio': 0.27448935409175623,\n",
       " 'incomeTaxExpense': 13372000000,\n",
       " 'netIncome': 59531000000,\n",
       " 'netIncomeRatio': 0.22414202074587247,\n",
       " 'eps': 3.0025,\n",
       " 'epsdiluted': 2.9775,\n",
       " 'weightedAverageShsOut': 19821508000,\n",
       " 'weightedAverageShsOutDil': 20000436000,\n",
       " 'link': 'https://www.sec.gov/Archives/edgar/data/320193/000032019318000145/0000320193-18-000145-index.html',\n",
       " 'finalLink': 'https://www.sec.gov/Archives/edgar/data/320193/000032019318000145/a10-k20189292018.htm'}"
      ]
     },
     "execution_count": 27,
     "metadata": {},
     "output_type": "execute_result"
    }
   ],
   "source": [
    "test2.json()[2]"
   ]
  },
  {
   "cell_type": "code",
   "execution_count": 29,
   "metadata": {},
   "outputs": [
    {
     "data": {
      "text/plain": [
       "{'date': '2016-09-24',\n",
       " 'symbol': 'AAPL',\n",
       " 'reportedCurrency': 'USD',\n",
       " 'fillingDate': '2016-10-26 00:00:00',\n",
       " 'acceptedDate': '2016-10-26 16:42:16',\n",
       " 'period': 'FY',\n",
       " 'revenue': 215639000000,\n",
       " 'costOfRevenue': 131376000000,\n",
       " 'grossProfit': 84263000000,\n",
       " 'grossProfitRatio': 0.3907595564809705,\n",
       " 'researchAndDevelopmentExpenses': 10045000000,\n",
       " 'generalAndAdministrativeExpenses': 14194000000,\n",
       " 'sellingAndMarketingExpenses': 0.0,\n",
       " 'otherExpenses': -1195000000,\n",
       " 'operatingExpenses': 24239000000,\n",
       " 'costAndExpenses': 155615000000,\n",
       " 'interestExpense': 1456000000,\n",
       " 'depreciationAndAmortization': 10505000000,\n",
       " 'ebitda': 73333000000,\n",
       " 'ebitdaratio': 0.34007299236223504,\n",
       " 'operatingIncome': 60024000000,\n",
       " 'operatingIncomeRatio': 0.284605289395703,\n",
       " 'totalOtherIncomeExpensesNet': -1195000000,\n",
       " 'incomeBeforeTax': 61372000000,\n",
       " 'incomeBeforeTaxRatio': 0.284605289395703,\n",
       " 'incomeTaxExpense': 15685000000,\n",
       " 'netIncome': 45687000000,\n",
       " 'netIncomeRatio': 0.211867983064288,\n",
       " 'eps': 2.0875,\n",
       " 'epsdiluted': 2.0775,\n",
       " 'weightedAverageShsOut': 21883280000,\n",
       " 'weightedAverageShsOutDil': 22001124000,\n",
       " 'link': 'https://www.sec.gov/Archives/edgar/data/320193/000162828016020309/0001628280-16-020309-index.html',\n",
       " 'finalLink': 'https://www.sec.gov/Archives/edgar/data/320193/000162828016020309/a201610-k9242016.htm'}"
      ]
     },
     "execution_count": 29,
     "metadata": {},
     "output_type": "execute_result"
    }
   ],
   "source": [
    "test2.json()[4]"
   ]
  },
  {
   "cell_type": "code",
   "execution_count": 32,
   "metadata": {},
   "outputs": [
    {
     "data": {
      "text/plain": [
       "274515000000"
      ]
     },
     "execution_count": 32,
     "metadata": {},
     "output_type": "execute_result"
    }
   ],
   "source": [
    "test2.json()[0]['revenue']"
   ]
  },
  {
   "cell_type": "code",
   "execution_count": null,
   "metadata": {},
   "outputs": [],
   "source": [
    "revenue = test2"
   ]
  }
 ],
 "metadata": {
  "kernelspec": {
   "display_name": "Python 3",
   "language": "python",
   "name": "python3"
  },
  "language_info": {
   "codemirror_mode": {
    "name": "ipython",
    "version": 3
   },
   "file_extension": ".py",
   "mimetype": "text/x-python",
   "name": "python",
   "nbconvert_exporter": "python",
   "pygments_lexer": "ipython3",
   "version": "3.7.4"
  }
 },
 "nbformat": 4,
 "nbformat_minor": 4
}
